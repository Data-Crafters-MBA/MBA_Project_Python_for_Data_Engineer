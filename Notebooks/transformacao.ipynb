{
 "cells": [
  {
   "cell_type": "code",
   "execution_count": 0,
   "metadata": {
    "application/vnd.databricks.v1+cell": {
     "cellMetadata": {
      "byteLimit": 2048000,
      "rowLimit": 10000
     },
     "inputWidgets": {},
     "nuid": "a9916a7c-ab71-437b-b517-91e9aab31b71",
     "showTitle": false,
     "tableResultSettingsMap": {},
     "title": ""
    }
   },
   "outputs": [],
   "source": [
    "import os\n",
    "from dotenv import load_dotenv\n",
    "from datetime import datetime\n",
    "\n",
    "from pyspark.sql import functions as F"
   ]
  },
  {
   "cell_type": "code",
   "execution_count": 0,
   "metadata": {
    "application/vnd.databricks.v1+cell": {
     "cellMetadata": {
      "byteLimit": 2048000,
      "rowLimit": 10000
     },
     "inputWidgets": {},
     "nuid": "927f207b-2d96-4b96-9526-217be59c0c22",
     "showTitle": false,
     "tableResultSettingsMap": {},
     "title": ""
    }
   },
   "outputs": [],
   "source": [
    "load_dotenv()\n",
    "\n",
    "DEFAULT_PATH = os.getenv(\"DEFAULT_PATH\")"
   ]
  },
  {
   "cell_type": "code",
   "execution_count": 0,
   "metadata": {
    "application/vnd.databricks.v1+cell": {
     "cellMetadata": {
      "byteLimit": 2048000,
      "rowLimit": 10000
     },
     "inputWidgets": {},
     "nuid": "458f5fe2-93a6-4d2f-b061-8d2351430700",
     "showTitle": false,
     "tableResultSettingsMap": {},
     "title": ""
    }
   },
   "outputs": [],
   "source": [
    "_current_datetime = dbutils.widgets.get('current_datetime')\n",
    "_rate = dbutils.widgets.get('rate')\n",
    "\n",
    "current_date = datetime.today().strftime('%Y-%m-%d')\n",
    "\n",
    "raw_path = f\"{DEFAULT_PATH}/Raw/{current_date}.json\"\n",
    "silver_path = f\"{DEFAULT_PATH}/Silver/{current_date}.parquet\""
   ]
  },
  {
   "cell_type": "code",
   "execution_count": 0,
   "metadata": {
    "application/vnd.databricks.v1+cell": {
     "cellMetadata": {
      "byteLimit": 2048000,
      "rowLimit": 10000
     },
     "inputWidgets": {},
     "nuid": "a0a09b17-f8a9-40e3-8051-3a057bbbff66",
     "showTitle": false,
     "tableResultSettingsMap": {},
     "title": ""
    }
   },
   "outputs": [],
   "source": [
    "df = spark.read.json(raw_path)"
   ]
  },
  {
   "cell_type": "code",
   "execution_count": 0,
   "metadata": {
    "application/vnd.databricks.v1+cell": {
     "cellMetadata": {
      "byteLimit": 2048000,
      "rowLimit": 10000
     },
     "inputWidgets": {},
     "nuid": "2e8aa843-7dbc-4d1a-b5dd-7b6930c1de08",
     "showTitle": false,
     "tableResultSettingsMap": {},
     "title": ""
    }
   },
   "outputs": [],
   "source": [
    "\n",
    "df = df.withColumn('base_currency', F.lit(_rate).cast('string'))\\\n",
    "       .withColumn('timestamp', F.lit(_current_datetime).cast('timestamp'))\\\n",
    "       .withColumnRenamed('currency', 'moeda')\\\n",
    "       .withColumnRenamed('value', 'taxa')\\\n",
    "       .withColumn('moeda', F.col('moeda').cast('string'))\\\n",
    "       .withColumn('taxa', F.col('taxa').cast('double'))\\\n",
    "       .filter(F.col('moeda') != _rate)\\\n",
    "       .filter((F.col('taxa') > 0) & (F.col('taxa').isNotNull()))\n",
    "\n"
   ]
  },
  {
   "cell_type": "code",
   "execution_count": 0,
   "metadata": {
    "application/vnd.databricks.v1+cell": {
     "cellMetadata": {},
     "inputWidgets": {},
     "nuid": "8ebc18d2-2286-4b3e-8820-5c5168bfba3c",
     "showTitle": false,
     "tableResultSettingsMap": {},
     "title": ""
    }
   },
   "outputs": [],
   "source": [
    "if os.path.exists(silver_path):\n",
    "       df.write.mode('append').format('parquet').save(silver_path)\n",
    "else:\n",
    "       df.coalesce(1).write.mode('overwrite').format('parquet').save(silver_path)"
   ]
  }
 ],
 "metadata": {
  "application/vnd.databricks.v1+notebook": {
   "computePreferences": {
    "hardware": {
     "accelerator": null,
     "gpuPoolId": null,
     "memory": "HIGH"
    }
   },
   "dashboards": [],
   "environmentMetadata": {
    "base_environment": "",
    "dependencies": [
     "python-dotenv"
    ],
    "environment_version": "3"
   },
   "inputWidgetPreferences": null,
   "language": "python",
   "notebookMetadata": {
    "pythonIndentUnit": 4
   },
   "notebookName": "transformacao",
   "widgets": {
    "current_datetime": {
     "currentValue": "2025-09-11T11:45:00",
     "nuid": "bc1c7bf1-1923-40e7-ae22-d8226b025136",
     "typedWidgetInfo": {
      "autoCreated": false,
      "defaultValue": "2025-09-11T11:45:00-03:00",
      "label": "",
      "name": "current_datetime",
      "options": {
       "widgetDisplayType": "Text",
       "validationRegex": null
      },
      "parameterDataType": "String"
     },
     "widgetInfo": {
      "widgetType": "text",
      "defaultValue": "2025-09-11T11:45:00-03:00",
      "label": "",
      "name": "current_datetime",
      "options": {
       "widgetType": "text",
       "autoCreated": false,
       "validationRegex": null
      }
     }
    },
    "rate": {
     "currentValue": "BRL",
     "nuid": "69dafb84-5e2a-43bc-bf31-ad943c252989",
     "typedWidgetInfo": {
      "autoCreated": false,
      "defaultValue": "BRL",
      "label": "",
      "name": "rate",
      "options": {
       "widgetDisplayType": "Text",
       "validationRegex": null
      },
      "parameterDataType": "String"
     },
     "widgetInfo": {
      "widgetType": "text",
      "defaultValue": "BRL",
      "label": "",
      "name": "rate",
      "options": {
       "widgetType": "text",
       "autoCreated": false,
       "validationRegex": null
      }
     }
    }
   }
  },
  "language_info": {
   "name": "python"
  }
 },
 "nbformat": 4,
 "nbformat_minor": 0
}
