{
 "cells": [
  {
   "cell_type": "code",
   "execution_count": 0,
   "metadata": {
    "application/vnd.databricks.v1+cell": {
     "cellMetadata": {
      "byteLimit": 2048000,
      "rowLimit": 10000
     },
     "inputWidgets": {},
     "nuid": "a9916a7c-ab71-437b-b517-91e9aab31b71",
     "showTitle": false,
     "tableResultSettingsMap": {},
     "title": ""
    }
   },
   "outputs": [],
   "source": [
    "import os\n",
    "from dotenv import load_dotenv\n",
    "from datetime import datetime\n",
    "\n",
    "from pyspark.sql import functions as F"
   ]
  },
  {
   "cell_type": "code",
   "execution_count": 0,
   "metadata": {
    "application/vnd.databricks.v1+cell": {
     "cellMetadata": {
      "byteLimit": 2048000,
      "rowLimit": 10000
     },
     "inputWidgets": {},
     "nuid": "927f207b-2d96-4b96-9526-217be59c0c22",
     "showTitle": false,
     "tableResultSettingsMap": {},
     "title": ""
    }
   },
   "outputs": [],
   "source": [
    "load_dotenv()\n",
    "\n",
    "DEFAULT_PATH = os.getenv(\"DEFAULT_PATH\")"
   ]
  },
  {
   "cell_type": "code",
   "execution_count": 0,
   "metadata": {
    "application/vnd.databricks.v1+cell": {
     "cellMetadata": {
      "byteLimit": 2048000,
      "rowLimit": 10000
     },
     "inputWidgets": {},
     "nuid": "458f5fe2-93a6-4d2f-b061-8d2351430700",
     "showTitle": false,
     "tableResultSettingsMap": {},
     "title": ""
    }
   },
   "outputs": [],
   "source": [
    "_current_datetime = dbutils.widgets.get('current_datetime')\n",
    "_rate = dbutils.widgets.get('rate')\n",
    "\n",
    "# _current_datetime = '2025-09-10 00:40:54.522'\n",
    "# _rate = 'BRL'\n",
    "\n",
    "current_date = datetime.today().strftime('%Y-%m-%d')\n",
    "# current_date = '2025-09-09'\n",
    "\n",
    "raw_path = f\"{DEFAULT_PATH}/Raw/{current_date}.json\"\n",
    "silver_path = f\"{DEFAULT_PATH}/Silver/{current_date}.parquet\""
   ]
  },
  {
   "cell_type": "code",
   "execution_count": 0,
   "metadata": {
    "application/vnd.databricks.v1+cell": {
     "cellMetadata": {
      "byteLimit": 2048000,
      "rowLimit": 10000
     },
     "inputWidgets": {},
     "nuid": "a0a09b17-f8a9-40e3-8051-3a057bbbff66",
     "showTitle": false,
     "tableResultSettingsMap": {},
     "title": ""
    }
   },
   "outputs": [],
   "source": [
    "df = spark.read.json(raw_path)"
   ]
  },
  {
   "cell_type": "code",
   "execution_count": 0,
   "metadata": {
    "application/vnd.databricks.v1+cell": {
     "cellMetadata": {
      "byteLimit": 2048000,
      "rowLimit": 10000
     },
     "inputWidgets": {},
     "nuid": "e34e8f16-ac7d-475f-a9be-7363a3c1c1c0",
     "showTitle": false,
     "tableResultSettingsMap": {},
     "title": ""
    }
   },
   "outputs": [],
   "source": [
    "# A moeda que estiver no base_currency equivale a 1\n",
    "df = df.withColumn('base_currency', F.lit(_rate))\\\n",
    "       .withColumn('timestamp', F.lit(_current_datetime).cast('timestamp'))\\\n",
    "       .withColumnRenamed('currency', 'moeda')\\\n",
    "       .withColumnRenamed('value', 'taxa')\\\n",
    "       .filter(F.col('moeda') != 'BRL')\n",
    "\n",
    "if os.path.exists(silver_path):\n",
    "       df.write.mode('append').format('parquet').save(silver_path)\n",
    "else:\n",
    "       df.write.coalesce(1).mode('overwrite').format('parquet').save(silver_path)\n"
   ]
  }
 ],
 "metadata": {
  "application/vnd.databricks.v1+notebook": {
   "computePreferences": {
    "hardware": {
     "accelerator": null,
     "gpuPoolId": null,
     "memory": null
    }
   },
   "dashboards": [],
   "environmentMetadata": {
    "base_environment": "",
    "dependencies": [
     "python-dotenv"
    ],
    "environment_version": "3"
   },
   "inputWidgetPreferences": null,
   "language": "python",
   "notebookMetadata": {
    "pythonIndentUnit": 4
   },
   "notebookName": "transformacao",
   "widgets": {}
  },
  "language_info": {
   "name": "python"
  }
 },
 "nbformat": 4,
 "nbformat_minor": 0
}
