{
 "cells": [
  {
   "cell_type": "code",
   "execution_count": 0,
   "metadata": {
    "application/vnd.databricks.v1+cell": {
     "cellMetadata": {
      "byteLimit": 2048000,
      "rowLimit": 10000
     },
     "inputWidgets": {},
     "nuid": "538461ec-5add-4463-8f40-e029cc5a107b",
     "showTitle": false,
     "tableResultSettingsMap": {},
     "title": ""
    }
   },
   "outputs": [],
   "source": [
    "import requests\n",
    "import os\n",
    "from dotenv import load_dotenv\n",
    "import pandas as pd\n",
    "from datetime import datetime"
   ]
  },
  {
   "cell_type": "code",
   "execution_count": 0,
   "metadata": {
    "application/vnd.databricks.v1+cell": {
     "cellMetadata": {
      "byteLimit": 2048000,
      "rowLimit": 10000
     },
     "inputWidgets": {},
     "nuid": "697430d1-10d9-42a0-823d-6aba9dcd0024",
     "showTitle": false,
     "tableResultSettingsMap": {},
     "title": ""
    }
   },
   "outputs": [],
   "source": [
    "log_messages = []\n",
    "log_messages.append(f\"{datetime.now()} - INFO - Iniciando ingestão\")\n"
   ]
  },
  {
   "cell_type": "code",
   "execution_count": 0,
   "metadata": {
    "application/vnd.databricks.v1+cell": {
     "cellMetadata": {
      "byteLimit": 2048000,
      "rowLimit": 10000
     },
     "inputWidgets": {},
     "nuid": "d40e6c79-52b4-4f94-aa73-7b98ab883210",
     "showTitle": false,
     "tableResultSettingsMap": {},
     "title": ""
    }
   },
   "outputs": [],
   "source": [
    "load_dotenv()\n",
    "\n",
    "API_KEY = os.getenv(\"API_KEY\")\n",
    "API_URL = os.getenv(\"API_URL\")\n",
    "DEFAULT_PATH = os.getenv(\"DEFAULT_PATH\")\n",
    "LOG_PATH = os.getenv(\"LOG_PATH\")"
   ]
  },
  {
   "cell_type": "code",
   "execution_count": 0,
   "metadata": {
    "application/vnd.databricks.v1+cell": {
     "cellMetadata": {
      "byteLimit": 2048000,
      "rowLimit": 10000
     },
     "inputWidgets": {},
     "nuid": "a96cdd32-e69f-4399-8aa3-5a599862ef47",
     "showTitle": false,
     "tableResultSettingsMap": {},
     "title": ""
    }
   },
   "outputs": [],
   "source": [
    "_rate = dbutils.widgets.get('rate')\n",
    "log_messages.append(f\"{datetime.now()} - INFO - Parametro utilizado no Rate: {_rate}\")"
   ]
  },
  {
   "cell_type": "code",
   "execution_count": 0,
   "metadata": {
    "application/vnd.databricks.v1+cell": {
     "cellMetadata": {
      "byteLimit": 2048000,
      "rowLimit": 10000
     },
     "inputWidgets": {},
     "nuid": "f5218549-92c3-4f1b-9317-a31ce6c14ca4",
     "showTitle": false,
     "tableResultSettingsMap": {},
     "title": ""
    }
   },
   "outputs": [],
   "source": [
    "def get_rates():\n",
    "  url = f'{API_URL}{API_KEY}/latest/{_rate}'\n",
    "  response = requests.get(url)\n",
    "  log_messages.append(f\"{datetime.now()} - INFO - Request para {url}\")\n",
    "  if response.status_code != 200:\n",
    "    log_messages.append(f\"{datetime.now()} - ERROR - Erro ao realizar request para {url}\")\n",
    "  else:\n",
    "    log_messages.append(f\"{datetime.now()} - INFO - Sucesso ao realizar request para {url}\")\n",
    "  return response.json()\n",
    "\n",
    "def genarate_df():\n",
    "  data = get_rates()\n",
    "  rates = data.get('conversion_rates', {})\n",
    "  log_messages.append(f\"{datetime.now()} - INFO - DataFrame gerado\")\n",
    "  df = (\n",
    "        pd.DataFrame(rates, index=[0])\n",
    "        .melt(var_name='currency', value_name='value')\n",
    "        )\n",
    "  log_messages.append(f\"{datetime.now()} - INFO - Dados do DataFrame carregados\")\n",
    "  return df\n",
    "\n",
    "def save_df_to_json(df, path=DEFAULT_PATH):\n",
    "    current_date = datetime.today().strftime('%Y-%m-%d')\n",
    "    file_path = f\"{path}/Raw/{current_date}.json\"\n",
    "    df.to_json(file_path, orient='records', lines=True)\n",
    "    \n"
   ]
  },
  {
   "cell_type": "code",
   "execution_count": 0,
   "metadata": {
    "application/vnd.databricks.v1+cell": {
     "cellMetadata": {
      "byteLimit": 2048000,
      "rowLimit": 10000
     },
     "inputWidgets": {},
     "nuid": "038c17f3-b4f3-4efe-987d-e2b2eb34d564",
     "showTitle": false,
     "tableResultSettingsMap": {},
     "title": ""
    }
   },
   "outputs": [],
   "source": [
    "\n",
    "df = genarate_df()\n",
    "save_df_to_json(df)\n",
    "log_messages.append(f\"{datetime.now()} - INFO - Daframe salvo no S3 e log salvo\")\n",
    "log_text = \"\\n\".join(log_messages)\n",
    "dbutils.fs.put(f\"{LOG_PATH}/ingestao.log\", log_text, overwrite=True)\n",
    "\n"
   ]
  }
 ],
 "metadata": {
  "application/vnd.databricks.v1+notebook": {
   "computePreferences": {
    "hardware": {
     "accelerator": null,
     "gpuPoolId": null,
     "memory": null
    }
   },
   "dashboards": [],
   "environmentMetadata": {
    "base_environment": "",
    "dependencies": [
     "python-dotenv"
    ],
    "environment_version": "3"
   },
   "inputWidgetPreferences": null,
   "language": "python",
   "notebookMetadata": {
    "pythonIndentUnit": 4
   },
   "notebookName": "ingestao",
   "widgets": {
    "rate": {
     "currentValue": "BRL",
     "nuid": "5e396e39-288f-4d98-8790-f05750d62300",
     "typedWidgetInfo": {
      "autoCreated": false,
      "defaultValue": "",
      "label": "",
      "name": "rate",
      "options": {
       "widgetDisplayType": "Text",
       "validationRegex": null
      },
      "parameterDataType": "String"
     },
     "widgetInfo": {
      "widgetType": "text",
      "defaultValue": "",
      "label": "",
      "name": "rate",
      "options": {
       "widgetType": "text",
       "autoCreated": false,
       "validationRegex": null
      }
     }
    }
   }
  },
  "language_info": {
   "name": "python"
  }
 },
 "nbformat": 4,
 "nbformat_minor": 0
}
